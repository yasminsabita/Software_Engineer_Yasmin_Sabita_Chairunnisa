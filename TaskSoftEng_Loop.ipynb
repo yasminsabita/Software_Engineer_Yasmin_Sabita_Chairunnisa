{
  "nbformat": 4,
  "nbformat_minor": 0,
  "metadata": {
    "colab": {
      "name": "TaskSoftEng_Loop",
      "provenance": []
    },
    "kernelspec": {
      "name": "python3",
      "display_name": "Python 3"
    },
    "language_info": {
      "name": "python"
    }
  },
  "cells": [
    {
      "cell_type": "code",
      "metadata": {
        "colab": {
          "base_uri": "https://localhost:8080/"
        },
        "id": "PYr9uZiWZ2WD",
        "outputId": "492c68e2-b1e1-4fbb-8399-1946158a45a3"
      },
      "source": [
        "#IT 4\n",
        "#Anaesthasia Patricia & Yasmin Sabita Chairunnisa\n",
        "\n",
        "a = 0\n",
        "for i in range(1,101):\n",
        "    a += i**2\n",
        "print(a)\n",
        "        \n",
        "b = 0\n",
        "for i in range(1,101):\n",
        "    b += i\n",
        "b = b ** 2\n",
        "print(b)\n",
        "\n",
        "sub = a - b\n",
        "\n",
        "print(sub)"
      ],
      "execution_count": 5,
      "outputs": [
        {
          "output_type": "stream",
          "name": "stdout",
          "text": [
            "338350\n",
            "25502500\n",
            "-25164150\n"
          ]
        }
      ]
    }
  ]
}