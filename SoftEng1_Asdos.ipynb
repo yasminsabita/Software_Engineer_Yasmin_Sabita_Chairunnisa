{
  "nbformat": 4,
  "nbformat_minor": 0,
  "metadata": {
    "colab": {
      "name": "SoftEng1_Asdos.ipynb",
      "provenance": []
    },
    "kernelspec": {
      "name": "python3",
      "display_name": "Python 3"
    },
    "language_info": {
      "name": "python"
    }
  },
  "cells": [
    {
      "cell_type": "code",
      "metadata": {
        "id": "MfNc5HYqJGCa"
      },
      "source": [
        "#Contoh-contoh variable\n",
        "a = 10 #Integer\n",
        "b = 3.14159230 #Float\n",
        "c = \"Y\" #String\n",
        "d = 'Yasmin Sabita' #String\n",
        "e = True #Boolean\n",
        "f = False #Boolean\n",
        "g = [] #List\n",
        "h = {} #Dictionary\n",
        "i = () #Tuple"
      ],
      "execution_count": 1,
      "outputs": []
    },
    {
      "cell_type": "code",
      "metadata": {
        "colab": {
          "base_uri": "https://localhost:8080/"
        },
        "id": "XPZByyVtKkwB",
        "outputId": "deb92634-211f-4ad6-95f1-06aacb7a2b40"
      },
      "source": [
        "#Print\n",
        "print(\"Yasmin Sabita Chairunnisa\")\n",
        "print('Hai hai')"
      ],
      "execution_count": 2,
      "outputs": [
        {
          "output_type": "stream",
          "name": "stdout",
          "text": [
            "Yasmin Sabita Chairunnisa\n",
            "Hai hai\n"
          ]
        }
      ]
    },
    {
      "cell_type": "code",
      "metadata": {
        "colab": {
          "base_uri": "https://localhost:8080/"
        },
        "id": "nrZwwJQSKvOn",
        "outputId": "e9a510ad-bccd-4b02-e1b2-28309e105f9a"
      },
      "source": [
        "#Print\n",
        "print(2)\n",
        "print(2+3*10)"
      ],
      "execution_count": 3,
      "outputs": [
        {
          "output_type": "stream",
          "name": "stdout",
          "text": [
            "2\n",
            "32\n"
          ]
        }
      ]
    },
    {
      "cell_type": "code",
      "metadata": {
        "colab": {
          "base_uri": "https://localhost:8080/"
        },
        "id": "_mHJ1VxPK2c6",
        "outputId": "31c74645-9281-45cf-9b03-2df97339e2e7"
      },
      "source": [
        "#Print\n",
        "print(d)"
      ],
      "execution_count": 4,
      "outputs": [
        {
          "output_type": "stream",
          "name": "stdout",
          "text": [
            "Yasmin Sabita\n"
          ]
        }
      ]
    },
    {
      "cell_type": "code",
      "metadata": {
        "colab": {
          "base_uri": "https://localhost:8080/"
        },
        "id": "vpG1DjKeK6zT",
        "outputId": "56fce570-8e0d-48aa-a434-c1a5438dbaf8"
      },
      "source": [
        "#Concate\n",
        "print(\"Hai namaku \" + d)"
      ],
      "execution_count": 5,
      "outputs": [
        {
          "output_type": "stream",
          "name": "stdout",
          "text": [
            "Hai namaku Yasmin Sabita\n"
          ]
        }
      ]
    },
    {
      "cell_type": "code",
      "metadata": {
        "colab": {
          "base_uri": "https://localhost:8080/"
        },
        "id": "-lxUBUhGLNem",
        "outputId": "ef51b852-fcb4-4f5d-a74d-427d0a55dd9b"
      },
      "source": [
        "#Concate\n",
        "print(\"Hai namaku {}\".format(d))"
      ],
      "execution_count": 6,
      "outputs": [
        {
          "output_type": "stream",
          "name": "stdout",
          "text": [
            "Hai namaku Yasmin Sabita\n"
          ]
        }
      ]
    },
    {
      "cell_type": "code",
      "metadata": {
        "colab": {
          "base_uri": "https://localhost:8080/",
          "height": 178
        },
        "id": "xRTJQr58LaMN",
        "outputId": "55c8d3ba-a281-4e2d-e921-d7f01f84fd2d"
      },
      "source": [
        "#Concate\n",
        "print(\"Nilainya adalah \" + a)"
      ],
      "execution_count": 7,
      "outputs": [
        {
          "output_type": "error",
          "ename": "TypeError",
          "evalue": "ignored",
          "traceback": [
            "\u001b[0;31m---------------------------------------------------------------------------\u001b[0m",
            "\u001b[0;31mTypeError\u001b[0m                                 Traceback (most recent call last)",
            "\u001b[0;32m<ipython-input-7-4af4fc8e29e1>\u001b[0m in \u001b[0;36m<module>\u001b[0;34m()\u001b[0m\n\u001b[1;32m      1\u001b[0m \u001b[0;31m#Concate\u001b[0m\u001b[0;34m\u001b[0m\u001b[0;34m\u001b[0m\u001b[0;34m\u001b[0m\u001b[0m\n\u001b[0;32m----> 2\u001b[0;31m \u001b[0mprint\u001b[0m\u001b[0;34m(\u001b[0m\u001b[0;34m\"Nilainya adalah \"\u001b[0m \u001b[0;34m+\u001b[0m \u001b[0ma\u001b[0m\u001b[0;34m)\u001b[0m\u001b[0;34m\u001b[0m\u001b[0;34m\u001b[0m\u001b[0m\n\u001b[0m",
            "\u001b[0;31mTypeError\u001b[0m: can only concatenate str (not \"int\") to str"
          ]
        }
      ]
    },
    {
      "cell_type": "code",
      "metadata": {
        "colab": {
          "base_uri": "https://localhost:8080/"
        },
        "id": "BnukUFt-LrG_",
        "outputId": "3b6f6a11-a717-448e-9124-c288e78883a1"
      },
      "source": [
        "print(\"Nilainya adalah \" + str(a))"
      ],
      "execution_count": 8,
      "outputs": [
        {
          "output_type": "stream",
          "name": "stdout",
          "text": [
            "Nilainya adalah 10\n"
          ]
        }
      ]
    },
    {
      "cell_type": "code",
      "metadata": {
        "colab": {
          "base_uri": "https://localhost:8080/"
        },
        "id": "9pavg0HlLv51",
        "outputId": "2d91ebce-b29d-4ed1-cdd1-f0b70aa55c85"
      },
      "source": [
        "print(\"Nilainya adalah {}\".format(a))"
      ],
      "execution_count": 9,
      "outputs": [
        {
          "output_type": "stream",
          "name": "stdout",
          "text": [
            "Nilainya adalah 10\n"
          ]
        }
      ]
    },
    {
      "cell_type": "code",
      "metadata": {
        "colab": {
          "base_uri": "https://localhost:8080/"
        },
        "id": "roHAFuy5M9Wj",
        "outputId": "3f463c60-0d93-4b50-a8df-239313458954"
      },
      "source": [
        "print(\"Namaku {}, Nilai ujianku {}, dan aku orang Bekasi {}\".format(d, a, e))"
      ],
      "execution_count": 10,
      "outputs": [
        {
          "output_type": "stream",
          "name": "stdout",
          "text": [
            "Namaku Yasmin Sabita, Nilai ujianku 10, dan aku orang Bekasi True\n"
          ]
        }
      ]
    },
    {
      "cell_type": "code",
      "metadata": {
        "id": "516adyFWNY-3"
      },
      "source": [
        "#List\n",
        "Sekolah = [\"Kelas\", 10, True, 3.14, [\"Bambang\", \"Budi\", \"Joko\"], {\"Hewan\":\"Gajah\"}]"
      ],
      "execution_count": 13,
      "outputs": []
    },
    {
      "cell_type": "markdown",
      "metadata": {
        "id": "HL7ItyzLN4pa"
      },
      "source": [
        "Kegunaan List: Untuk menyimpan banyak variable dalam 1 variable saja."
      ]
    },
    {
      "cell_type": "code",
      "metadata": {
        "colab": {
          "base_uri": "https://localhost:8080/",
          "height": 35
        },
        "id": "t0-5T3MiOCTW",
        "outputId": "25ccde71-cf37-44b0-d590-40e6a4af4e31"
      },
      "source": [
        "Sekolah[0]"
      ],
      "execution_count": 15,
      "outputs": [
        {
          "output_type": "execute_result",
          "data": {
            "application/vnd.google.colaboratory.intrinsic+json": {
              "type": "string"
            },
            "text/plain": [
              "'Kelas'"
            ]
          },
          "metadata": {},
          "execution_count": 15
        }
      ]
    },
    {
      "cell_type": "code",
      "metadata": {
        "colab": {
          "base_uri": "https://localhost:8080/"
        },
        "id": "Ly-WYC1kOYA5",
        "outputId": "73aa1076-bce8-4ec5-d904-cf01d2bd1742"
      },
      "source": [
        "Sekolah[4]"
      ],
      "execution_count": 16,
      "outputs": [
        {
          "output_type": "execute_result",
          "data": {
            "text/plain": [
              "['Bambang', 'Budi', 'Joko']"
            ]
          },
          "metadata": {},
          "execution_count": 16
        }
      ]
    },
    {
      "cell_type": "code",
      "metadata": {
        "colab": {
          "base_uri": "https://localhost:8080/"
        },
        "id": "IPES6xS2Oa2N",
        "outputId": "a90f826c-87ea-4067-b609-8bb582c61cd0"
      },
      "source": [
        "Sekolah[-1] #Untuk mengambil nilai paling belakang dari list"
      ],
      "execution_count": 17,
      "outputs": [
        {
          "output_type": "execute_result",
          "data": {
            "text/plain": [
              "{'Hewan': 'Gajah'}"
            ]
          },
          "metadata": {},
          "execution_count": 17
        }
      ]
    },
    {
      "cell_type": "code",
      "metadata": {
        "colab": {
          "base_uri": "https://localhost:8080/",
          "height": 35
        },
        "id": "cbvmknLSOuYc",
        "outputId": "2cf98129-8983-4eed-e5c1-007e137a0414"
      },
      "source": [
        "Sekolah[4][0]"
      ],
      "execution_count": 18,
      "outputs": [
        {
          "output_type": "execute_result",
          "data": {
            "application/vnd.google.colaboratory.intrinsic+json": {
              "type": "string"
            },
            "text/plain": [
              "'Bambang'"
            ]
          },
          "metadata": {},
          "execution_count": 18
        }
      ]
    },
    {
      "cell_type": "code",
      "metadata": {
        "colab": {
          "base_uri": "https://localhost:8080/",
          "height": 35
        },
        "id": "9LG_K0zOPAai",
        "outputId": "a99be2f3-3586-4d6d-94d8-3387722eff14"
      },
      "source": [
        "Sekolah[-1][\"Hewan\"]"
      ],
      "execution_count": 19,
      "outputs": [
        {
          "output_type": "execute_result",
          "data": {
            "application/vnd.google.colaboratory.intrinsic+json": {
              "type": "string"
            },
            "text/plain": [
              "'Gajah'"
            ]
          },
          "metadata": {},
          "execution_count": 19
        }
      ]
    },
    {
      "cell_type": "code",
      "metadata": {
        "id": "noLt1GHQPNmz"
      },
      "source": [
        "Nama_Siswa = [\"Bambang\", \"Budi\", \"Joko\", \"Alvin\", \"Said\", \"Mariano\", \"David\"]"
      ],
      "execution_count": 20,
      "outputs": []
    },
    {
      "cell_type": "code",
      "metadata": {
        "colab": {
          "base_uri": "https://localhost:8080/"
        },
        "id": "AW-BZGHrRYHN",
        "outputId": "cb3b149f-05d6-48b9-907b-44359517326b"
      },
      "source": [
        "Sekolah"
      ],
      "execution_count": 30,
      "outputs": [
        {
          "output_type": "execute_result",
          "data": {
            "text/plain": [
              "['Kelas', 10, True, 3.14, ['Bambang', 'Budi', 'Joko'], {'Hewan': 'Gajah'}]"
            ]
          },
          "metadata": {},
          "execution_count": 30
        }
      ]
    },
    {
      "cell_type": "code",
      "metadata": {
        "colab": {
          "base_uri": "https://localhost:8080/"
        },
        "id": "TAeXfaRZRcfX",
        "outputId": "ceb539e3-7cdb-4ba5-83f1-0468c9d21e80"
      },
      "source": [
        "Sekolah[:]"
      ],
      "execution_count": 31,
      "outputs": [
        {
          "output_type": "execute_result",
          "data": {
            "text/plain": [
              "['Kelas', 10, True, 3.14, ['Bambang', 'Budi', 'Joko'], {'Hewan': 'Gajah'}]"
            ]
          },
          "metadata": {},
          "execution_count": 31
        }
      ]
    },
    {
      "cell_type": "code",
      "metadata": {
        "colab": {
          "base_uri": "https://localhost:8080/"
        },
        "id": "iPkTH9-sPazq",
        "outputId": "dda9a9a3-be17-437c-8716-dc54a7174a01"
      },
      "source": [
        "Nama_Siswa[1:5]"
      ],
      "execution_count": 21,
      "outputs": [
        {
          "output_type": "execute_result",
          "data": {
            "text/plain": [
              "['Budi', 'Joko', 'Alvin', 'Said']"
            ]
          },
          "metadata": {},
          "execution_count": 21
        }
      ]
    },
    {
      "cell_type": "code",
      "metadata": {
        "colab": {
          "base_uri": "https://localhost:8080/"
        },
        "id": "Uh1O-RnDPpDF",
        "outputId": "0462dac1-8077-4931-d965-ddbc13e73365"
      },
      "source": [
        "Nama_Siswa[-2:]"
      ],
      "execution_count": 22,
      "outputs": [
        {
          "output_type": "execute_result",
          "data": {
            "text/plain": [
              "['Mariano', 'David']"
            ]
          },
          "metadata": {},
          "execution_count": 22
        }
      ]
    },
    {
      "cell_type": "markdown",
      "metadata": {
        "id": "0IdzWuWQP_a7"
      },
      "source": [
        "[Awal index : Setelah Akhir index].\n",
        "co: Jika mau ambil index kedua sampai kelima [2:5].\n",
        "Kalau mau ambil dari akhir bisa ambil pakai - (negatif)."
      ]
    },
    {
      "cell_type": "code",
      "metadata": {
        "id": "YUqxK-ZNQZke"
      },
      "source": [
        "#Dictionary\n",
        "Dict1 = {\"Hewan\":\"Gajah\", 0:22, \"Boolean\":\"Benar\"}"
      ],
      "execution_count": 24,
      "outputs": []
    },
    {
      "cell_type": "markdown",
      "metadata": {
        "id": "_4Pf47psQkEG"
      },
      "source": [
        "Dictionary: Diambil dengan menggunakan key.\n",
        "List: Diambil dengan menggunakan index."
      ]
    },
    {
      "cell_type": "code",
      "metadata": {
        "colab": {
          "base_uri": "https://localhost:8080/",
          "height": 35
        },
        "id": "9YRu0W2zQy7h",
        "outputId": "2a6f2665-57b4-4ddf-bd07-4517a11a9590"
      },
      "source": [
        "Dict1[\"Hewan\"]"
      ],
      "execution_count": 25,
      "outputs": [
        {
          "output_type": "execute_result",
          "data": {
            "application/vnd.google.colaboratory.intrinsic+json": {
              "type": "string"
            },
            "text/plain": [
              "'Gajah'"
            ]
          },
          "metadata": {},
          "execution_count": 25
        }
      ]
    },
    {
      "cell_type": "code",
      "metadata": {
        "colab": {
          "base_uri": "https://localhost:8080/"
        },
        "id": "LWgoR97jQ9Px",
        "outputId": "5c9f55b5-93b1-45b1-fbfd-14d06e303932"
      },
      "source": [
        "Dict1[0]"
      ],
      "execution_count": 27,
      "outputs": [
        {
          "output_type": "execute_result",
          "data": {
            "text/plain": [
              "22"
            ]
          },
          "metadata": {},
          "execution_count": 27
        }
      ]
    },
    {
      "cell_type": "code",
      "metadata": {
        "colab": {
          "base_uri": "https://localhost:8080/",
          "height": 35
        },
        "id": "LkNnnboqRBsC",
        "outputId": "a5f71366-9bb5-4b92-986d-4b7d22cb18c3"
      },
      "source": [
        "Dict1[\"Boolean\"]"
      ],
      "execution_count": 29,
      "outputs": [
        {
          "output_type": "execute_result",
          "data": {
            "application/vnd.google.colaboratory.intrinsic+json": {
              "type": "string"
            },
            "text/plain": [
              "'Benar'"
            ]
          },
          "metadata": {},
          "execution_count": 29
        }
      ]
    },
    {
      "cell_type": "code",
      "metadata": {
        "colab": {
          "base_uri": "https://localhost:8080/",
          "height": 35
        },
        "id": "naE6KH5vSegi",
        "outputId": "7f538a2c-0326-4600-faf2-ace96a6a156d"
      },
      "source": [
        "Nama_Siswa[6]"
      ],
      "execution_count": 32,
      "outputs": [
        {
          "output_type": "execute_result",
          "data": {
            "application/vnd.google.colaboratory.intrinsic+json": {
              "type": "string"
            },
            "text/plain": [
              "'David'"
            ]
          },
          "metadata": {},
          "execution_count": 32
        }
      ]
    },
    {
      "cell_type": "code",
      "metadata": {
        "colab": {
          "base_uri": "https://localhost:8080/",
          "height": 35
        },
        "id": "xI9cdnBgSgzl",
        "outputId": "dce0c125-e6b6-406a-d332-7faf6ef9ed11"
      },
      "source": [
        "Nama_Siswa[-1]"
      ],
      "execution_count": 33,
      "outputs": [
        {
          "output_type": "execute_result",
          "data": {
            "application/vnd.google.colaboratory.intrinsic+json": {
              "type": "string"
            },
            "text/plain": [
              "'David'"
            ]
          },
          "metadata": {},
          "execution_count": 33
        }
      ]
    },
    {
      "cell_type": "code",
      "metadata": {
        "id": "j8P_FdkcTsgh"
      },
      "source": [
        "Dict2 = {\"Yasmin\":True}"
      ],
      "execution_count": 34,
      "outputs": []
    }
  ]
}